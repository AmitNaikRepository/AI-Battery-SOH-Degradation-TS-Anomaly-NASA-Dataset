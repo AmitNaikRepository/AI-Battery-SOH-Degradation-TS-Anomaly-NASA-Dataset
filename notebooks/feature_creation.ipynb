{
 "cells": [
  {
   "cell_type": "code",
   "execution_count": null,
   "id": "c5e4ea9c",
   "metadata": {},
   "outputs": [],
   "source": "import pandas as pd\nimport numpy as np\nimport scipy.io\nimport os\nimport zipfile\nimport glob\nfrom pathlib import Path\n\n# Base paths\nbattery_data_path = '../5. Battery Data Set'\ndata_folder = '../data'\norganized_folder = '../data/organized_batteries'\n\n# Create main organized folder\nos.makedirs(organized_folder, exist_ok=True)\n\nprint(f\"Battery data source: {battery_data_path}\")\nprint(f\"Data folder: {data_folder}\")\nprint(f\"Organized folder: {organized_folder}\")"
  },
  {
   "cell_type": "code",
   "id": "75q4chqqaub",
   "source": "# Extract all zip files to get all battery data (B0001 to B0056)\nzip_files = glob.glob(os.path.join(battery_data_path, '*.zip'))\nprint(f\"Found {len(zip_files)} zip files\\n\")\n\n# Extract all zip files\nfor zip_file in zip_files:\n    zip_name = os.path.basename(zip_file)\n    print(f\"Extracting {zip_name}...\")\n    \n    with zipfile.ZipFile(zip_file, 'r') as zip_ref:\n        zip_ref.extractall(data_folder)\n        extracted_count = len(zip_ref.namelist())\n        print(f\"  Extracted {extracted_count} files\")\n\n# List all .mat files\nmat_files = sorted(glob.glob(os.path.join(data_folder, '*.mat')))\nprint(f\"\\nTotal .mat files found: {len(mat_files)}\")\n\n# Show which battery files we have\nbattery_numbers = []\nfor mat_file in mat_files:\n    battery_name = os.path.basename(mat_file).replace('.mat', '')\n    if battery_name.startswith('B'):\n        try:\n            battery_num = int(battery_name[1:])\n            battery_numbers.append(battery_num)\n        except:\n            pass\n\nif battery_numbers:\n    battery_numbers.sort()\n    print(f\"Battery range: B{battery_numbers[0]:04d} to B{battery_numbers[-1]:04d}\")\n    print(f\"Available batteries: {battery_numbers}\")",
   "metadata": {},
   "execution_count": null,
   "outputs": []
  },
  {
   "cell_type": "code",
   "id": "6l1sif9ni6w",
   "source": "# Create folder structure for B0001 to B0056\n# Organize into subfolders: B0001-B0010, B0011-B0020, etc.\n\ndef create_battery_folder(battery_num, base_folder):\n    \"\"\"Create folder and subfolder for battery\"\"\"\n    # Determine subfolder (groups of 10)\n    group_start = ((battery_num - 1) // 10) * 10 + 1\n    group_end = group_start + 9\n    subfolder_name = f\"B{group_start:04d}_to_B{group_end:04d}\"\n    \n    # Create path\n    subfolder_path = os.path.join(base_folder, subfolder_name)\n    battery_folder = os.path.join(subfolder_path, f\"B{battery_num:04d}\")\n    \n    # Create directories\n    os.makedirs(battery_folder, exist_ok=True)\n    \n    return battery_folder\n\n# Create folders for B0001 to B0056\nprint(\"Creating folder structure for B0001 to B0056...\")\ncreated_folders = []\n\nfor battery_num in range(1, 57):\n    folder = create_battery_folder(battery_num, organized_folder)\n    created_folders.append(folder)\n\nprint(f\"Created {len(created_folders)} battery folders\")\n\n# Show folder structure\nprint(\"\\nFolder structure:\")\nsubfolders = sorted(set([os.path.dirname(f) for f in created_folders]))\nfor subfolder in subfolders:\n    subfolder_name = os.path.basename(subfolder)\n    batteries_in_subfolder = [os.path.basename(f) for f in created_folders if os.path.dirname(f) == subfolder]\n    print(f\"  {subfolder_name}/ ({len(batteries_in_subfolder)} batteries)\")",
   "metadata": {},
   "execution_count": null,
   "outputs": []
  },
  {
   "cell_type": "code",
   "id": "4aht778kvml",
   "source": "# Function to extract all data from battery .mat file\ndef extract_all_battery_data(mat_file_path):\n    \"\"\"Extract charge, discharge, and impedance data from battery MATLAB file\"\"\"\n    \n    try:\n        mat_data = scipy.io.loadmat(mat_file_path)\n        battery_name = os.path.basename(mat_file_path).replace('.mat', '')\n        \n        battery_data = mat_data[battery_name][0, 0]\n        cycles = battery_data['cycle'][0]\n        \n        discharge_data = []\n        charge_data = []\n        impedance_data = []\n        \n        for i, cycle in enumerate(cycles):\n            cycle_type = str(cycle['type'][0])\n            data = cycle['data'][0, 0]\n            \n            if 'discharge' in cycle_type:\n                df = pd.DataFrame({\n                    'Cycle': i + 1,\n                    'Voltage_measured': data['Voltage_measured'][0, 0].flatten(),\n                    'Current_measured': data['Current_measured'][0, 0].flatten(),\n                    'Temperature_measured': data['Temperature_measured'][0, 0].flatten(),\n                    'Time': data['Time'][0, 0].flatten(),\n                })\n                if 'Capacity' in data.dtype.names:\n                    capacity = data['Capacity'][0, 0].flatten()\n                    if len(capacity) > 0:\n                        df['Capacity'] = capacity[0]\n                discharge_data.append(df)\n                \n            elif 'charge' in cycle_type:\n                df = pd.DataFrame({\n                    'Cycle': i + 1,\n                    'Voltage_measured': data['Voltage_measured'][0, 0].flatten(),\n                    'Current_measured': data['Current_measured'][0, 0].flatten(),\n                    'Temperature_measured': data['Temperature_measured'][0, 0].flatten(),\n                    'Time': data['Time'][0, 0].flatten(),\n                })\n                charge_data.append(df)\n                \n            elif 'impedance' in cycle_type:\n                df = pd.DataFrame({\n                    'Cycle': i + 1,\n                })\n                # Add impedance-specific fields if they exist\n                for field in ['Battery_impedance', 'Rectified_impedance', 'Re', 'Rct']:\n                    if field in data.dtype.names:\n                        df[field] = data[field][0, 0].flatten()\n                impedance_data.append(df)\n        \n        result = {}\n        if discharge_data:\n            result['discharge'] = pd.concat(discharge_data, ignore_index=True)\n        if charge_data:\n            result['charge'] = pd.concat(charge_data, ignore_index=True)\n        if impedance_data:\n            result['impedance'] = pd.concat(impedance_data, ignore_index=True)\n            \n        return result\n    \n    except Exception as e:\n        print(f\"Error processing {os.path.basename(mat_file_path)}: {str(e)}\")\n        return None\n\nprint(\"Function defined: extract_all_battery_data()\")",
   "metadata": {},
   "execution_count": null,
   "outputs": []
  },
  {
   "cell_type": "code",
   "id": "e16wlt2tvyw",
   "source": "# Process all battery files and save to organized folders\nall_battery_dataframes = {}\n\nprint(\"Processing all battery files...\\n\")\n\nfor mat_file in mat_files:\n    battery_name = os.path.basename(mat_file).replace('.mat', '')\n    \n    if battery_name.startswith('B'):\n        try:\n            battery_num = int(battery_name[1:])\n            \n            print(f\"Processing {battery_name}...\")\n            \n            # Extract data\n            data_dict = extract_all_battery_data(mat_file)\n            \n            if data_dict:\n                # Get battery folder\n                battery_folder = create_battery_folder(battery_num, organized_folder)\n                \n                # Save each dataframe type\n                for data_type, df in data_dict.items():\n                    csv_filename = f\"{battery_name}_{data_type}.csv\"\n                    csv_path = os.path.join(battery_folder, csv_filename)\n                    df.to_csv(csv_path, index=False)\n                    print(f\"  Saved {data_type}: {df.shape} -> {csv_filename}\")\n                \n                # Store in memory\n                all_battery_dataframes[battery_name] = data_dict\n                \n        except Exception as e:\n            print(f\"  Error with {battery_name}: {str(e)}\")\n\nprint(f\"\\n=== Processing Complete ===\")\nprint(f\"Total batteries processed: {len(all_battery_dataframes)}\")\nprint(f\"Batteries: {list(all_battery_dataframes.keys())}\")",
   "metadata": {},
   "execution_count": null,
   "outputs": []
  },
  {
   "cell_type": "code",
   "id": "4q26zfmqmi5",
   "source": "# Display summary and sample data\nprint(\"=== SUMMARY ===\\n\")\n\n# Show folder structure\nprint(\"Folder Structure:\")\nfor subfolder in sorted(os.listdir(organized_folder)):\n    subfolder_path = os.path.join(organized_folder, subfolder)\n    if os.path.isdir(subfolder_path):\n        battery_folders = os.listdir(subfolder_path)\n        print(f\"  {subfolder}/ ({len(battery_folders)} batteries)\")\n\n# Show sample data from first battery\nif all_battery_dataframes:\n    first_battery = list(all_battery_dataframes.keys())[0]\n    print(f\"\\n=== Sample Data: {first_battery} ===\")\n    \n    for data_type, df in all_battery_dataframes[first_battery].items():\n        print(f\"\\n{data_type.upper()} Data:\")\n        print(f\"  Shape: {df.shape}\")\n        print(f\"  Columns: {list(df.columns)}\")\n        print(f\"  First 3 rows:\")\n        print(df.head(3).to_string(index=False))\n        \n        # Show capacity degradation for discharge data\n        if data_type == 'discharge' and 'Capacity' in df.columns:\n            capacity_by_cycle = df.groupby('Cycle')['Capacity'].first()\n            if len(capacity_by_cycle) > 0:\n                print(f\"\\n  Capacity Summary:\")\n                print(f\"    Initial: {capacity_by_cycle.iloc[0]:.4f} Ahr\")\n                print(f\"    Final: {capacity_by_cycle.iloc[-1]:.4f} Ahr\")\n                fade = (capacity_by_cycle.iloc[0] - capacity_by_cycle.iloc[-1]) / capacity_by_cycle.iloc[0] * 100\n                print(f\"    Fade: {fade:.2f}%\")",
   "metadata": {},
   "execution_count": null,
   "outputs": []
  }
 ],
 "metadata": {
  "kernelspec": {
   "display_name": "New folder (2)",
   "language": "python",
   "name": "python3"
  },
  "language_info": {
   "name": "python",
   "version": "3.11.5"
  }
 },
 "nbformat": 4,
 "nbformat_minor": 5
}